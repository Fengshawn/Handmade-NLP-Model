{
 "cells": [
  {
   "cell_type": "markdown",
   "metadata": {},
   "source": [
    "# [COM4513-6513] Assignment 2: Text Classification with a Feedforward Network\n",
    "\n",
    "\n",
    "### Instructor: Nikos Aletras\n",
    "\n",
    "\n",
    "The goal of this assignment is to develop a Feedforward network for text classification. \n",
    "\n",
    "\n",
    "\n",
    "For that purpose, you will implement:\n",
    "\n",
    "- Text processing methods for transforming raw text data into input vectors for your network  (**1 mark**)\n",
    "- A Feedforward network consisting of:\n",
    "    - **One-hot** input layer mapping words into an **Embedding weight matrix** (**1 mark**)\n",
    "    - **One hidden layer** computing the mean embedding vector of all words in input followed by a **ReLU activation function** (**1 mark**)\n",
    "    - **Output layer** with a **softmax** activation. (**1 mark**)\n",
    "- The Stochastic Gradient Descent (SGD) algorithm with **back-propagation** to learn the weights of your Neural network. Your algorithm should:\n",
    "    - Use (and minimise) the **Categorical Cross-entropy loss** function (**1 mark**)\n",
    "    - Perform a **Forward pass** to compute intermediate outputs (**4 marks**)\n",
    "    - Perform a **Backward pass** to compute gradients and update all sets of weights (**4 marks**)\n",
    "    - Implement and use **Dropout** after each hidden layer for regularisation (**2 marks**)\n",
    "- Discuss how did you choose hyperparameters? You can tune the learning rate (hint: choose small values), embedding size {e.g. 50, 300, 500}, the dropout rate {e.g. 0.2, 0.5} and the learning rate. Please use tables or graphs to show training and validation performance for each hyperparam combination  (**2 marks**). \n",
    "- After training the model, plot the learning process (i.e. training and validation loss in each epoch) using a line plot and report accuracy.\n",
    "- Re-train your network by using pre-trained embeddings ([GloVe](https://nlp.stanford.edu/projects/glove/)) trained on large corpora. Instead of randomly initialising the embedding weights matrix, you should initialise it with the pre-trained weights. During training, you should not update them (i.e. weight freezing) and backprop should stop before computing gradients for updating embedding weights. Report results by performing hyperparameter tuning and plotting the learning process. Do you get better performance? (**3 marks**).\n",
    "\n",
    "- **BONUS:** Extend you Feedforward network by adding more hidden layers (e.g. one more). How does it affect the performance? Note: You need to repeat hyperparameter tuning, but the number of combinations grows exponentially. Therefore, you need to choose a subset of all possible combinations (**+2 extra marks**)\n",
    "\n",
    "\n",
    "\n",
    "### Data \n",
    "\n",
    "The data you will use for Task 2 is a subset of the [AG News Corpus](http://groups.di.unipi.it/~gulli/AG_corpus_of_news_articles.html) and you can find it in the `./data_topic` folder in CSV format:\n",
    "\n",
    "- `data_topic/train.csv`: contains 2,400 news articles, 800 for each class to be used for training.\n",
    "- `data_topic/dev.csv`: contains 150 news articles, 50 for each class to be used for hyperparameter selection and monitoring the training process.\n",
    "- `data_topic/test.csv`: contains 900 news articles, 300 for each class to be used for testing.\n",
    "\n",
    "### Pre-trained Embeddings\n",
    "\n",
    "You can download pre-trained GloVe embeddings trained on Common Crawl (840B tokens, 2.2M vocab, cased, 300d vectors, 2.03 GB download) from [here](http://nlp.stanford.edu/data/glove.840B.300d.zip). No need to unzip, the file is large.\n",
    "\n",
    "### Save Memory\n",
    "\n",
    "To save RAM, when you finish each experiment you can delete the weights of your network using `del W` followed by Python's garbage collector `gc.collect()`\n",
    "\n",
    "\n",
    "\n",
    "\n",
    "### Submission Instructions\n",
    "\n",
    "You should submit a Jupyter Notebook file (assignment2.ipynb) and an exported PDF version (you can do it from Jupyter: `File->Download as->PDF via Latex`).\n",
    "\n",
    "You are advised to follow the code structure given in this notebook by completing all given funtions. You can also write any auxilliary/helper functions (and arguments for the functions) that you might need but note that you can provide a full solution without any such functions. Similarly, you can just use only the packages imported below but you are free to use any functionality from the [Python Standard Library](https://docs.python.org/2/library/index.html), NumPy, SciPy and Pandas. You are not allowed to use any third-party library such as Scikit-learn (apart from metric functions already provided), NLTK, Spacy, Keras etc.. You are allowed to re-use your code from Assignment 1.\n",
    "\n",
    "Please make sure to comment your code. You should also mention if you've used Windows to write and test your code. There is no single correct answer on what your accuracy should be, but correct implementations usually achieve F1 of ~75-80% and ~85% without and with using pre-trained embeddings respectively. \n",
    "\n",
    "This assignment will be marked out of 20. It is worth 20\\% of your final grade in the module. If you implement the bonus question you can get up to 2 extra points but your final grade will be capped at 20.\n",
    "\n",
    "The deadline for this assignment is **23:59 on Mon, 18 May 2020** and it needs to be submitted via Blackboard (MOLE). Standard departmental penalties for lateness will be applied. We use a range of strategies to detect [unfair means](https://www.sheffield.ac.uk/ssid/unfair-means/index), including Turnitin which helps detect plagiarism, so make sure you do not plagiarise.\n",
    "\n"
   ]
  },
  {
   "cell_type": "code",
   "execution_count": 1,
   "metadata": {
    "ExecuteTime": {
     "end_time": "2020-04-02T15:00:18.625532Z",
     "start_time": "2020-04-02T15:00:17.377733Z"
    }
   },
   "outputs": [],
   "source": [
    "import pandas as pd\n",
    "import numpy as np\n",
    "from collections import Counter\n",
    "import re\n",
    "import matplotlib.pyplot as plt\n",
    "from sklearn.metrics import accuracy_score, precision_score, recall_score, f1_score\n",
    "import random\n",
    "from time import localtime, strftime\n",
    "from scipy.stats import spearmanr,pearsonr\n",
    "import zipfile\n",
    "import gc\n",
    "\n",
    "# fixing random seed for reproducibility\n",
    "random.seed(123)\n",
    "np.random.seed(123)\n",
    "# This script was written on Windows"
   ]
  },
  {
   "cell_type": "markdown",
   "metadata": {},
   "source": [
    "## Transform Raw texts into training and development data\n",
    "\n",
    "First, you need to load the training, development and test sets from their corresponding CSV files (tip: you can use Pandas dataframes)."
   ]
  },
  {
   "cell_type": "code",
   "execution_count": 2,
   "metadata": {
    "ExecuteTime": {
     "end_time": "2020-04-02T14:26:39.748484Z",
     "start_time": "2020-04-02T14:26:39.727404Z"
    }
   },
   "outputs": [],
   "source": [
    "data_train = pd.read_csv(\"./data_topic/train.csv\",header=None) \n",
    "data_test = pd.read_csv(\"./data_topic/test.csv\",header=None)\n",
    "data_dev = pd.read_csv(\"./data_topic/dev.csv\",header=None)"
   ]
  },
  {
   "cell_type": "code",
   "execution_count": 3,
   "metadata": {},
   "outputs": [],
   "source": [
    "data_train.columns=[\"label\",\"text\"]\n",
    "data_test.columns=[\"label\",\"text\"]\n",
    "data_dev.columns=[\"label\",\"text\"]"
   ]
  },
  {
   "cell_type": "code",
   "execution_count": 4,
   "metadata": {
    "ExecuteTime": {
     "end_time": "2020-04-02T14:26:39.753874Z",
     "start_time": "2020-04-02T14:26:39.749647Z"
    }
   },
   "outputs": [
    {
     "data": {
      "text/html": [
       "<div>\n",
       "<style scoped>\n",
       "    .dataframe tbody tr th:only-of-type {\n",
       "        vertical-align: middle;\n",
       "    }\n",
       "\n",
       "    .dataframe tbody tr th {\n",
       "        vertical-align: top;\n",
       "    }\n",
       "\n",
       "    .dataframe thead th {\n",
       "        text-align: right;\n",
       "    }\n",
       "</style>\n",
       "<table border=\"1\" class=\"dataframe\">\n",
       "  <thead>\n",
       "    <tr style=\"text-align: right;\">\n",
       "      <th></th>\n",
       "      <th>label</th>\n",
       "      <th>text</th>\n",
       "    </tr>\n",
       "  </thead>\n",
       "  <tbody>\n",
       "    <tr>\n",
       "      <th>0</th>\n",
       "      <td>1</td>\n",
       "      <td>Reuters - Venezuelans turned out early\\and in ...</td>\n",
       "    </tr>\n",
       "    <tr>\n",
       "      <th>1</th>\n",
       "      <td>1</td>\n",
       "      <td>Reuters - South Korean police used water canno...</td>\n",
       "    </tr>\n",
       "    <tr>\n",
       "      <th>2</th>\n",
       "      <td>1</td>\n",
       "      <td>Reuters - Thousands of Palestinian\\prisoners i...</td>\n",
       "    </tr>\n",
       "    <tr>\n",
       "      <th>3</th>\n",
       "      <td>1</td>\n",
       "      <td>AFP - Sporadic gunfire and shelling took place...</td>\n",
       "    </tr>\n",
       "    <tr>\n",
       "      <th>4</th>\n",
       "      <td>1</td>\n",
       "      <td>AP - Dozens of Rwandan soldiers flew into Suda...</td>\n",
       "    </tr>\n",
       "  </tbody>\n",
       "</table>\n",
       "</div>"
      ],
      "text/plain": [
       "   label                                               text\n",
       "0      1  Reuters - Venezuelans turned out early\\and in ...\n",
       "1      1  Reuters - South Korean police used water canno...\n",
       "2      1  Reuters - Thousands of Palestinian\\prisoners i...\n",
       "3      1  AFP - Sporadic gunfire and shelling took place...\n",
       "4      1  AP - Dozens of Rwandan soldiers flew into Suda..."
      ]
     },
     "execution_count": 4,
     "metadata": {},
     "output_type": "execute_result"
    }
   ],
   "source": [
    "data_train.head()"
   ]
  },
  {
   "cell_type": "code",
   "execution_count": 5,
   "metadata": {},
   "outputs": [],
   "source": [
    "#put the raw texts into python array\n",
    "\n",
    "X_tr_raw = data_train.iloc[:,1]\n",
    "X_te_raw  = data_test.iloc[:,1]\n",
    "X_dev_raw = data_dev.iloc[:,1]\n"
   ]
  },
  {
   "cell_type": "markdown",
   "metadata": {},
   "source": [
    "# Create input representations\n",
    "\n",
    "\n",
    "To train your Feedforward network, you first need to obtain input representations given a vocabulary. One-hot encoding requires large memory capacity. Therefore, we will instead represent documents as lists of vocabulary indices (each word corresponds to a vocabulary index). \n",
    "\n",
    "\n",
    "## Text Pre-Processing Pipeline\n",
    "\n",
    "To obtain a vocabulary of words. You should: \n",
    "- tokenise all texts into a list of unigrams (tip: you can re-use the functions from Assignment 1) \n",
    "- remove stop words (using the one provided or one of your preference) \n",
    "- remove unigrams appearing in less than K documents\n",
    "- use the remaining to create a vocabulary of the top-N most frequent unigrams in the entire corpus.\n"
   ]
  },
  {
   "cell_type": "code",
   "execution_count": 6,
   "metadata": {
    "ExecuteTime": {
     "end_time": "2020-04-02T14:26:40.851926Z",
     "start_time": "2020-04-02T14:26:40.847500Z"
    }
   },
   "outputs": [],
   "source": [
    "stop_words = ['a','in','on','at','and','or', \n",
    "              'to', 'the', 'of', 'an', 'by', \n",
    "              'as', 'is', 'was', 'were', 'been', 'be', \n",
    "              'are','for', 'this', 'that', 'these', 'those', 'you', 'i', 'if',\n",
    "             'it', 'he', 'she', 'we', 'they', 'will', 'have', 'has',\n",
    "              'do', 'did', 'can', 'could', 'who', 'which', 'what',\n",
    "              'but', 'not', 'there', 'no', 'does', 'not', 'so', 've', 'their',\n",
    "             'his', 'her', 'they', 'them', 'from', 'with', 'its']\n"
   ]
  },
  {
   "cell_type": "markdown",
   "metadata": {},
   "source": [
    "### Unigram extraction from a document\n",
    "\n",
    "You first need to implement the `extract_ngrams` function. It takes as input:\n",
    "- `x_raw`: a string corresponding to the raw text of a document\n",
    "- `ngram_range`: a tuple of two integers denoting the type of ngrams you want to extract, e.g. (1,2) denotes extracting unigrams and bigrams.\n",
    "- `token_pattern`: a string to be used within a regular expression to extract all tokens. Note that data is already tokenised so you could opt for a simple white space tokenisation.\n",
    "- `stop_words`: a list of stop words\n",
    "- `vocab`: a given vocabulary. It should be used to extract specific features.\n",
    "\n",
    "and returns:\n",
    "\n",
    "- a list of all extracted features.\n"
   ]
  },
  {
   "cell_type": "code",
   "execution_count": 7,
   "metadata": {
    "ExecuteTime": {
     "end_time": "2020-04-02T14:26:41.505459Z",
     "start_time": "2020-04-02T14:26:41.498388Z"
    }
   },
   "outputs": [],
   "source": [
    "def extract_ngrams(x_raw, ngram_range=(1,3), token_pattern=r'\\b[A-Za-z][A-Za-z]+\\b', stop_words=[], vocab=set()):\n",
    "    \n",
    "    unigram = re.compile(token_pattern,re.I).findall(x_raw)#tokenise\n",
    "    # convert words to lowercase\n",
    "    for i in range(len(unigram)):\n",
    "        unigram[i] = unigram[i].lower()   \n",
    "    word_list = unigram[:] #make a copy of the word_list\n",
    "    \n",
    "    #remove stop words\n",
    "    for word in unigram:   \n",
    "        if word in stop_words:\n",
    "            word_list.remove(word)\n",
    "    \n",
    "    #create ngram lists according to ngram_range\n",
    "    ngram_range_list = list(range(ngram_range[0],ngram_range[1]+1))  \n",
    "    x_temp=[]\n",
    "    for j in ngram_range_list:\n",
    "        if j==1:\n",
    "            for i in range(0,len(word_list)):\n",
    "                x_temp.append(word_list[i])       \n",
    "        if j>1:\n",
    "            for i in range(0,len(word_list)):\n",
    "                if i+j <= len(word_list):\n",
    "                    x_temp.append(tuple(word_list[i:i+j]))\n",
    "                \n",
    "    #output final result x according to vocab\n",
    "    x=[]\n",
    "    if vocab == set():#by default, vocab==set(),in this case, word list don't need to be processed\n",
    "        x=x_temp\n",
    "    else:\n",
    "        vocab = list(vocab)#if given a list of vocabulary, function should return the words needed\n",
    "        for element in x_temp:\n",
    "            if element in vocab:\n",
    "                x.append(element)\n",
    "\n",
    "    \n",
    "    return x\n"
   ]
  },
  {
   "cell_type": "markdown",
   "metadata": {},
   "source": [
    "### Create a vocabulary of n-grams\n",
    "\n",
    "Then the `get_vocab` function will be used to (1) create a vocabulary of ngrams; (2) count the document frequencies of ngrams; (3) their raw frequency. It takes as input:\n",
    "- `X_raw`: a list of strings each corresponding to the raw text of a document\n",
    "- `ngram_range`: a tuple of two integers denoting the type of ngrams you want to extract, e.g. (1,2) denotes extracting unigrams and bigrams.\n",
    "- `token_pattern`: a string to be used within a regular expression to extract all tokens. Note that data is already tokenised so you could opt for a simple white space tokenisation.\n",
    "- `stop_words`: a list of stop words\n",
    "- `min_df`: keep ngrams with a minimum document frequency.\n",
    "- `keep_topN`: keep top-N more frequent ngrams.\n",
    "\n",
    "and returns:\n",
    "\n",
    "- `vocab`: a set of the n-grams that will be used as features.\n",
    "- `df`: a Counter (or dict) that contains ngrams as keys and their corresponding document frequency as values.\n",
    "- `ngram_counts`: counts of each ngram in vocab\n"
   ]
  },
  {
   "cell_type": "code",
   "execution_count": 8,
   "metadata": {
    "ExecuteTime": {
     "end_time": "2020-04-02T14:26:42.563876Z",
     "start_time": "2020-04-02T14:26:42.557967Z"
    }
   },
   "outputs": [],
   "source": [
    "def get_vocab(X_raw, ngram_range=(1,3), token_pattern=r'\\b[A-Za-z][A-Za-z]+\\b', \n",
    "              min_df=0, keep_topN=0, stop_words=[]):\n",
    "    \n",
    "    #create lists for counting document frequency and collection frequency\n",
    "    lists_df=[] \n",
    "    lists_cf=[]\n",
    "    for x_raw in X_raw:\n",
    "        temp_cf = extract_ngrams(x_raw, ngram_range,token_pattern,stop_words)\n",
    "        temp_df = list(set(temp_cf)) #remove repeat element in each document for counting document frequency\n",
    "        lists_cf += temp_cf\n",
    "        lists_df += temp_df\n",
    "    \n",
    "    #count document frequency\n",
    "    df = Counter()\n",
    "    for ngram in lists_df:\n",
    "        df[ngram] += 1\n",
    "    if min_df != 0:\n",
    "        df = {k:v for k,v in df.items() if v>=min_df}\n",
    "        df = sorted(df.items(),key=lambda x:x[1],reverse=True)\n",
    "        df = Counter(dict(df))\n",
    "    \n",
    "    #count collection frequency    \n",
    "    cf = Counter()\n",
    "    for ngram in lists_cf:\n",
    "        cf[ngram] += 1\n",
    "    ngram_counts = cf #ngram_counts is the collection frequency\n",
    "    \n",
    "    #get vocab according to keep_topN\n",
    "    if keep_topN != 0:\n",
    "        tmp = {k:v for k,v in ngram_counts.items()}\n",
    "        tmp = sorted(tmp,key=lambda x:tmp[x],reverse=True)\n",
    "        vocab = tmp[:keep_topN]\n",
    "        vocab = set(vocab)\n",
    "    else:\n",
    "        vocab = set(lists_df)\n",
    "    \n",
    "    return vocab, df, ngram_counts"
   ]
  },
  {
   "cell_type": "markdown",
   "metadata": {},
   "source": [
    "Now you should use `get_vocab` to create your vocabulary and get document and raw frequencies of unigrams:"
   ]
  },
  {
   "cell_type": "code",
   "execution_count": 9,
   "metadata": {
    "ExecuteTime": {
     "end_time": "2020-04-02T14:26:43.577997Z",
     "start_time": "2020-04-02T14:26:43.478950Z"
    }
   },
   "outputs": [
    {
     "name": "stdout",
     "output_type": "stream",
     "text": [
      "8931\n",
      "\n",
      "['declared', 'universal', 'uae', 'quit', 'improbable', 'pledge', 'kreme', 'climax', 'ankle', 'farce', 'utterly', 'jumped', 'lorry', 'commander', 'eu', 'amat', 'edge', 'withholding', 'writer', 'seasonally', 'criticized', 'damion', 'mon', 'operative', 'bengals', 'herself', 'winner', 'should', 'clergy', 'jarno', 'cremated', 'kostas', 'exhale', 'coroibos', 'benefits', 'dispatched', 'grip', 'al', 'fullback', 'athletes', 'clear', 'ipod', 'deliver', 'grave', 'platform', 'tohmatsu', 'michigan', 'remain', 'immortality', 'approved', 'shortage', 'ten', 'prepared', 'survives', 'outlook', 'fellows', 'rolls', 'mot', 'actual', 'kill', 'shipments', 'drafty', 'evening', 'freddy', 'amanda', 'attacked', 'evident', 'tail', 'surprise', 'deeply', 'subcontractors', 'learned', 'much', 'sitting', 'heinz', 'recordings', 'developers', 'body', 'coached', 'wellington', 'formally', 'also', 'saskatchewan', 'electric', 'travis', 'ingredient', 'withdrawn', 'yet', 'beverages', 'sense', 'station', 'andruw', 'gadgets', 'pipeline', 'revenue', 'weaken', 'outstrip', 'constant', 'others', 'patch']\n",
      "\n",
      "[('reuters', 631), ('said', 432), ('tuesday', 413), ('wednesday', 344), ('new', 325), ('after', 295), ('ap', 275), ('athens', 245), ('monday', 221), ('first', 210)]\n"
     ]
    }
   ],
   "source": [
    "vocab, df, ngram_counts = get_vocab(X_tr_raw, ngram_range=(1,1),keep_topN=10000,stop_words=stop_words)\n",
    "\n",
    "print(len(vocab))\n",
    "print()\n",
    "print(list(vocab)[:100])\n",
    "print()\n",
    "print(df.most_common()[:10])"
   ]
  },
  {
   "cell_type": "markdown",
   "metadata": {},
   "source": [
    "Then, you need to create vocabulary id -> word and id -> word dictionaries for reference:"
   ]
  },
  {
   "cell_type": "code",
   "execution_count": 10,
   "metadata": {},
   "outputs": [],
   "source": [
    "word2id = dict(zip(vocab,range(len(vocab))))\n",
    "id2word = dict(zip(range(len(vocab)),vocab))\n",
    "\n",
    "# set a unkown token, use the last index number as 'unknown'\n",
    "word2id[str(len(word2id))] = len(word2id)\n",
    "id2word[len(id2word)] = str(len(id2word))\n"
   ]
  },
  {
   "cell_type": "markdown",
   "metadata": {},
   "source": [
    "### Convert the list of unigrams  into a list of vocabulary indices"
   ]
  },
  {
   "cell_type": "markdown",
   "metadata": {},
   "source": [
    "Storing actual one-hot vectors into memory for all words in the entire data set is prohibitive. Instead, we will store word indices in the vocabulary and look-up the weight matrix. This is equivalent of doing a dot product between an one-hot vector and the weight matrix. \n",
    "\n",
    "First, represent documents in train, dev and test sets as lists of words in the vocabulary:"
   ]
  },
  {
   "cell_type": "code",
   "execution_count": 11,
   "metadata": {},
   "outputs": [],
   "source": [
    "# convert texts into ngrams\n",
    "X_uni_tr = []\n",
    "for oneDoc in X_tr_raw:\n",
    "    X_uni_tr += [extract_ngrams(oneDoc,ngram_range=(1,1), stop_words=stop_words)]\n",
    "\n",
    "X_uni_dev = []\n",
    "for oneDoc in X_dev_raw:\n",
    "    X_uni_dev += [extract_ngrams(oneDoc,ngram_range=(1,1), stop_words=stop_words)]\n",
    "\n",
    "X_uni_te = []\n",
    "for oneDoc in X_te_raw:\n",
    "    X_uni_te += [extract_ngrams(oneDoc,ngram_range=(1,1), stop_words=stop_words)]"
   ]
  },
  {
   "cell_type": "code",
   "execution_count": 12,
   "metadata": {
    "scrolled": false
   },
   "outputs": [
    {
     "data": {
      "text/plain": [
       "['reuters',\n",
       " 'venezuelans',\n",
       " 'turned',\n",
       " 'out',\n",
       " 'early',\n",
       " 'large',\n",
       " 'numbers',\n",
       " 'sunday',\n",
       " 'vote',\n",
       " 'historic',\n",
       " 'referendum',\n",
       " 'either',\n",
       " 'remove',\n",
       " 'left',\n",
       " 'wing',\n",
       " 'president',\n",
       " 'hugo',\n",
       " 'chavez',\n",
       " 'office',\n",
       " 'give',\n",
       " 'him',\n",
       " 'new',\n",
       " 'mandate',\n",
       " 'govern',\n",
       " 'next',\n",
       " 'two',\n",
       " 'years']"
      ]
     },
     "execution_count": 12,
     "metadata": {},
     "output_type": "execute_result"
    }
   ],
   "source": [
    "X_uni_tr[0]"
   ]
  },
  {
   "cell_type": "markdown",
   "metadata": {},
   "source": [
    "Then convert them into lists of indices in the vocabulary:"
   ]
  },
  {
   "cell_type": "code",
   "execution_count": 13,
   "metadata": {},
   "outputs": [],
   "source": [
    "#define a function to convert input document(each document represented by unigrams) into a list of vocabulary indices\n",
    "def ngram2vocabIndices(X_uni,ngram_range=(1,1),vocab=set()):\n",
    "    \n",
    "    indices=[] # store vocabulary indices\n",
    "    l = len(vocab)-1\n",
    "    for oneDoc in X_uni:\n",
    "        temp = []\n",
    "        for word in oneDoc:\n",
    "            if word in vocab: #vocab in this case is word2id\n",
    "                temp += [vocab[word]]\n",
    "            else: # if the word in test set or dev set are not exist in vocab, set this word to a \"unknown\" token  \n",
    "                temp += [l]       \n",
    "        indices += [temp]\n",
    "        \n",
    "    return indices"
   ]
  },
  {
   "cell_type": "code",
   "execution_count": 14,
   "metadata": {
    "ExecuteTime": {
     "end_time": "2020-04-02T14:26:45.752658Z",
     "start_time": "2020-04-02T14:26:45.730409Z"
    }
   },
   "outputs": [],
   "source": [
    "X_tr = ngram2vocabIndices(X_uni_tr,vocab=word2id)\n",
    "X_dev = ngram2vocabIndices(X_uni_dev,vocab=word2id)\n",
    "X_te = ngram2vocabIndices(X_uni_te,vocab=word2id)"
   ]
  },
  {
   "cell_type": "code",
   "execution_count": 15,
   "metadata": {},
   "outputs": [
    {
     "data": {
      "text/plain": [
       "[5740,\n",
       " 3644,\n",
       " 1011,\n",
       " 6431,\n",
       " 4557,\n",
       " 1211,\n",
       " 1230,\n",
       " 7936,\n",
       " 8862,\n",
       " 2354,\n",
       " 6418,\n",
       " 3951,\n",
       " 7235,\n",
       " 4258,\n",
       " 1129,\n",
       " 8914,\n",
       " 950,\n",
       " 3683,\n",
       " 532,\n",
       " 8024,\n",
       " 238,\n",
       " 1889,\n",
       " 210,\n",
       " 8533,\n",
       " 1237,\n",
       " 3037,\n",
       " 7239]"
      ]
     },
     "execution_count": 15,
     "metadata": {},
     "output_type": "execute_result"
    }
   ],
   "source": [
    "X_tr[0]"
   ]
  },
  {
   "cell_type": "code",
   "execution_count": 16,
   "metadata": {},
   "outputs": [
    {
     "data": {
      "text/plain": [
       "[3700,\n",
       " 3427,\n",
       " 8790,\n",
       " 3406,\n",
       " 8701,\n",
       " 4853,\n",
       " 3966,\n",
       " 3037,\n",
       " 4962,\n",
       " 989,\n",
       " 7166,\n",
       " 1914,\n",
       " 122,\n",
       " 6994,\n",
       " 2247,\n",
       " 6731,\n",
       " 8200,\n",
       " 1821,\n",
       " 1490,\n",
       " 5884,\n",
       " 4806,\n",
       " 6444,\n",
       " 8931,\n",
       " 1039,\n",
       " 3738,\n",
       " 5784,\n",
       " 4883,\n",
       " 8931]"
      ]
     },
     "execution_count": 16,
     "metadata": {},
     "output_type": "execute_result"
    }
   ],
   "source": [
    "X_dev[0] # in this case 8931 represent all the word not exsited in training data"
   ]
  },
  {
   "cell_type": "markdown",
   "metadata": {},
   "source": [
    "Put the labels `Y` for train, dev and test sets into arrays: "
   ]
  },
  {
   "cell_type": "code",
   "execution_count": 17,
   "metadata": {
    "ExecuteTime": {
     "end_time": "2020-04-02T15:03:13.183996Z",
     "start_time": "2020-04-02T15:03:13.077575Z"
    }
   },
   "outputs": [],
   "source": [
    "Y_tr = np.array(data_train.iloc[:,0])\n",
    "Y_te = np.array(data_test.iloc[:,0])\n",
    "Y_dev = np.array(data_dev.iloc[:,0])"
   ]
  },
  {
   "cell_type": "markdown",
   "metadata": {},
   "source": [
    "# Network Architecture\n",
    "\n",
    "Your network should pass each word index into its corresponding embedding by looking-up on the embedding matrix and then compute the first hidden layer $\\mathbf{h}_1$:\n",
    "\n",
    "$$\\mathbf{h}_1 = \\frac{1}{|x|}\\sum_i W^e_i, i \\in x$$\n",
    "\n",
    "where $|x|$ is the number of words in the document and $W^e$ is an embedding matrix $|V|\\times d$, $|V|$ is the size of the vocabulary and $d$ the embedding size.\n",
    "\n",
    "Then $\\mathbf{h}_1$ should be passed through a ReLU activation function:\n",
    "\n",
    "$$\\mathbf{a}_1 = relu(\\mathbf{h}_1)$$\n",
    "\n",
    "Finally the hidden layer is passed to the output layer:\n",
    "\n",
    "\n",
    "$$\\mathbf{y} = \\text{softmax}(\\mathbf{a}_1W^T) $$ \n",
    "where $W$ is a matrix $d \\times |{\\cal Y}|$, $|{\\cal Y}|$ is the number of classes.\n",
    "\n",
    "During training, $\\mathbf{a}_1$ should be multiplied with a dropout mask vector (elementwise) for regularisation before it is passed to the output layer.\n",
    "\n",
    "You can extend to a deeper architecture by passing a hidden layer to another one:\n",
    "\n",
    "$$\\mathbf{h_i} = \\mathbf{a}_{i-1}W_i^T $$\n",
    "\n",
    "$$\\mathbf{a_i} = relu(\\mathbf{h_i}) $$\n",
    "\n",
    "\n",
    "\n",
    "# Network Training\n",
    "\n",
    "First we need to define the parameters of our network by initiliasing the weight matrices. For that purpose, you should implement the `network_weights` function that takes as input:\n",
    "\n",
    "- `vocab_size`: the size of the vocabulary\n",
    "- `embedding_dim`: the size of the word embeddings\n",
    "- `hidden_dim`: a list of the sizes of any subsequent hidden layers (for the Bonus). Empty if there are no hidden layers between the average embedding and the output layer \n",
    "- `num_clusses`: the number of the classes for the output layer\n",
    "\n",
    "and returns:\n",
    "\n",
    "- `W`: a dictionary mapping from layer index (e.g. 0 for the embedding matrix) to the corresponding weight matrix initialised with small random numbers (hint: use numpy.random.uniform with from -0.1 to 0.1)\n",
    "\n",
    "See the examples below for expected outputs. Make sure that the dimensionality of each weight matrix is compatible with the previous and next weight matrix, otherwise you won't be able to perform forward and backward passes. Consider also using np.float32 precision to save memory."
   ]
  },
  {
   "cell_type": "code",
   "execution_count": 18,
   "metadata": {
    "ExecuteTime": {
     "end_time": "2020-04-02T15:09:10.086665Z",
     "start_time": "2020-04-02T15:09:10.083429Z"
    }
   },
   "outputs": [],
   "source": [
    "def network_weights(vocab_size=1000, embedding_dim=300, \n",
    "                    hidden_dim=[], num_classes=3, init_val = 0.5):\n",
    "    \n",
    "    W = {}\n",
    "    W_emb = np.random.uniform(-0.1,0.1,(vocab_size,embedding_dim))\n",
    "    W[0] = W_emb # W_emb must be the 0th in the dictionary\n",
    "    index = 1 # use a flag to mark current index\n",
    "    last_len = W[0].shape[1] # use a varible to store length number of last layer\n",
    "    \n",
    "    if hidden_dim!=[]:\n",
    "        for layer in hidden_dim:\n",
    "            W_hi = np.random.uniform(-0.1,0.1,(last_len,layer))\n",
    "            W[index] = W_hi\n",
    "            index += 1\n",
    "            last_len = layer\n",
    "    \n",
    "        \n",
    "    W_out = np.random.uniform(-1,1,(last_len,num_classes))\n",
    "    W[index] = W_out\n",
    "\n",
    "    return W\n",
    "    "
   ]
  },
  {
   "cell_type": "code",
   "execution_count": 19,
   "metadata": {
    "ExecuteTime": {
     "end_time": "2020-04-02T14:26:48.143236Z",
     "start_time": "2020-04-02T14:26:48.139381Z"
    }
   },
   "outputs": [
    {
     "name": "stdout",
     "output_type": "stream",
     "text": [
      "W_emb: (5, 10)\n",
      "W_out: (10, 2)\n"
     ]
    }
   ],
   "source": [
    "W = network_weights(vocab_size=5,embedding_dim=10,hidden_dim=[], num_classes=2)\n",
    "#vocab_size:d  ,  embedding_dim:\n",
    "print('W_emb:', W[0].shape)\n",
    "print('W_out:', W[1].shape)"
   ]
  },
  {
   "cell_type": "code",
   "execution_count": 20,
   "metadata": {
    "ExecuteTime": {
     "end_time": "2020-04-02T14:26:48.636732Z",
     "start_time": "2020-04-02T14:26:48.634122Z"
    }
   },
   "outputs": [],
   "source": [
    "W = network_weights(vocab_size=3,embedding_dim=4,hidden_dim=[2], num_classes=2)"
   ]
  },
  {
   "cell_type": "code",
   "execution_count": 21,
   "metadata": {
    "ExecuteTime": {
     "end_time": "2020-04-02T14:26:49.086112Z",
     "start_time": "2020-04-02T14:26:49.082225Z"
    }
   },
   "outputs": [
    {
     "name": "stdout",
     "output_type": "stream",
     "text": [
      "W_emb: (3, 4)\n",
      "W_h1: (4, 2)\n",
      "W_out: (2, 2)\n"
     ]
    }
   ],
   "source": [
    "print('W_emb:', W[0].shape)\n",
    "print('W_h1:', W[1].shape)\n",
    "print('W_out:', W[2].shape)"
   ]
  },
  {
   "cell_type": "code",
   "execution_count": 22,
   "metadata": {},
   "outputs": [
    {
     "data": {
      "text/plain": [
       "array([[-0.0808575 ,  0.07706537,  0.02544979,  0.04468327],\n",
       "       [-0.09677416,  0.01888638,  0.01135704, -0.06820807],\n",
       "       [-0.0693859 ,  0.03910591, -0.03624671,  0.03839406]])"
      ]
     },
     "execution_count": 22,
     "metadata": {},
     "output_type": "execute_result"
    }
   ],
   "source": [
    "W[0]"
   ]
  },
  {
   "cell_type": "markdown",
   "metadata": {
    "ExecuteTime": {
     "end_time": "2020-04-01T10:31:57.970152Z",
     "start_time": "2020-04-01T10:31:57.966123Z"
    }
   },
   "source": [
    "Then you need to develop a `softmax` function (same as in Assignment 1) to be used in the output layer. It takes as input:\n",
    "\n",
    "- `z`: array of real numbers \n",
    "\n",
    "and returns:\n",
    "\n",
    "- `sig`: the softmax of `z`"
   ]
  },
  {
   "cell_type": "code",
   "execution_count": 23,
   "metadata": {
    "ExecuteTime": {
     "end_time": "2020-04-02T14:26:50.504086Z",
     "start_time": "2020-04-02T14:26:50.500686Z"
    }
   },
   "outputs": [],
   "source": [
    "def softmax(z):\n",
    "    if z.ndim==1:\n",
    "        sig = np.exp(z)/np.sum(np.exp(z),axis=0)\n",
    "    else:\n",
    "        sig=[]\n",
    "        for array in z:\n",
    "            temp = np.exp(array)/np.sum(np.exp(array),axis=0)\n",
    "            sig += [temp]\n",
    "        sig = np.array(sig)        \n",
    "    return sig"
   ]
  },
  {
   "cell_type": "markdown",
   "metadata": {},
   "source": [
    "Now you need to implement the categorical cross entropy loss by slightly modifying the function from Assignment 1 to depend only on the true label `y` and the class probabilities vector `y_preds`:"
   ]
  },
  {
   "cell_type": "code",
   "execution_count": 24,
   "metadata": {
    "ExecuteTime": {
     "end_time": "2020-04-02T14:26:51.360838Z",
     "start_time": "2020-04-02T14:26:51.356935Z"
    }
   },
   "outputs": [],
   "source": [
    "def categorical_loss(y, y_preds):\n",
    "    \n",
    "    y = np.array(y) - 1 # Because Y_tr and Y_dev start from 1, for indexing, Y should minus 1\n",
    "    if y_preds.ndim==1:\n",
    "        l = -np.log(y_preds)[y]\n",
    "    else:\n",
    "        l_list=[]\n",
    "        for i in range(len(y_preds)):\n",
    "            l_temp = -np.log(y_preds[i])[y[i]]\n",
    "            l_list += [l_temp]\n",
    "        l = sum(l_list)/len(l_list)\n",
    "    return l"
   ]
  },
  {
   "cell_type": "code",
   "execution_count": 25,
   "metadata": {
    "ExecuteTime": {
     "end_time": "2020-04-02T14:26:51.762676Z",
     "start_time": "2020-04-02T14:26:51.758210Z"
    }
   },
   "outputs": [
    {
     "name": "stdout",
     "output_type": "stream",
     "text": [
      "y_preds:  [0.01217919 0.27035308 0.24462558 0.02710529 0.44573687]\n",
      "loss: 1.3080264848567502\n"
     ]
    }
   ],
   "source": [
    "# example for 5 classes\n",
    "\n",
    "y = 2 #true label\n",
    "y_preds = softmax(np.array([[-2.1,1.,0.9,-1.3,1.5]]))[0]\n",
    "\n",
    "print('y_preds: ',y_preds)\n",
    "print('loss:', categorical_loss(y, y_preds))"
   ]
  },
  {
   "cell_type": "markdown",
   "metadata": {
    "ExecuteTime": {
     "end_time": "2020-03-31T15:02:56.149535Z",
     "start_time": "2020-03-31T15:02:56.145738Z"
    }
   },
   "source": [
    "Then, implement the `relu` function to introduce non-linearity after each hidden layer of your network (during the forward pass): \n",
    "\n",
    "$$relu(z_i)= max(z_i,0)$$\n",
    "\n",
    "and the `relu_derivative` function to compute its derivative (used in the backward pass):\n",
    "\n",
    "\\begin{equation}\n",
    "  \\text{relu_derivative}(z_i)=\\begin{cases}\n",
    "    0, & \\text{if $z_i<=0$}.\\\\\n",
    "    1, & \\text{otherwise}.\n",
    "  \\end{cases}\n",
    "\\end{equation}\n",
    "\n",
    "Note that both functions take as input a vector $z$ \n",
    "\n",
    "Hint use .copy() to avoid in place changes in array z"
   ]
  },
  {
   "cell_type": "code",
   "execution_count": 26,
   "metadata": {
    "ExecuteTime": {
     "end_time": "2020-04-02T14:26:52.665236Z",
     "start_time": "2020-04-02T14:26:52.661519Z"
    }
   },
   "outputs": [],
   "source": [
    "def relu(z):\n",
    "    \n",
    "    a = np.maximum(z,0)\n",
    "    \n",
    "    return a\n",
    "    \n",
    "\n",
    "def relu_derivative(z):\n",
    "    \n",
    "    dz=[]\n",
    "    for ele in z:\n",
    "        if ele <= 0:\n",
    "            dz += [0]\n",
    "        else:\n",
    "            dz += [1]\n",
    "    dz=np.array(dz)\n",
    "    return dz"
   ]
  },
  {
   "cell_type": "markdown",
   "metadata": {},
   "source": [
    "During training you should also apply a dropout mask element-wise after the activation function (i.e. vector of ones with a random percentage set to zero). The `dropout_mask` function takes as input:\n",
    "\n",
    "- `size`: the size of the vector that we want to apply dropout\n",
    "- `dropout_rate`: the percentage of elements that will be randomly set to zeros\n",
    "\n",
    "and returns:\n",
    "\n",
    "- `dropout_vec`: a vector with binary values (0 or 1)"
   ]
  },
  {
   "cell_type": "code",
   "execution_count": 27,
   "metadata": {
    "ExecuteTime": {
     "end_time": "2020-04-02T14:26:53.429192Z",
     "start_time": "2020-04-02T14:26:53.425301Z"
    }
   },
   "outputs": [],
   "source": [
    "def dropout_mask(size, dropout_rate):\n",
    "    \n",
    "    dropout_vec = np.ones(size)\n",
    "    zero_num = int(size * dropout_rate)\n",
    "    for i in range(zero_num):\n",
    "        dropout_vec[i] = 0\n",
    "\n",
    "    np.random.shuffle(dropout_vec)\n",
    "    return dropout_vec\n",
    "    \n",
    "    "
   ]
  },
  {
   "cell_type": "markdown",
   "metadata": {},
   "source": [
    "Now you need to implement the `forward_pass` function that passes the input x through the network up to the output layer for computing the probability for each class using the weight matrices in `W`. The ReLU activation function should be applied on each hidden layer. \n",
    "\n",
    "- `x`: a list of vocabulary indices each corresponding to a word in the document (input)\n",
    "- `W`: a list of weight matrices connecting each part of the network, e.g. for a network with a hidden and an output layer: W[0] is the weight matrix that connects the input to the first hidden layer, W[1] is the weight matrix that connects the hidden layer to the output layer.\n",
    "- `dropout_rate`: the dropout rate that is used to generate a random dropout mask vector applied after each hidden layer for regularisation.\n",
    "\n",
    "and returns:\n",
    "\n",
    "- `out_vals`: a dictionary of output values from each layer: h (the vector before the activation function), a (the resulting vector after passing h from the activation function), its dropout mask vector; and the prediction vector (probability for each class) from the output layer."
   ]
  },
  {
   "cell_type": "code",
   "execution_count": 28,
   "metadata": {
    "ExecuteTime": {
     "end_time": "2020-04-02T14:26:54.761268Z",
     "start_time": "2020-04-02T14:26:54.753402Z"
    }
   },
   "outputs": [],
   "source": [
    "def forward_pass(x, W, dropout_rate=0.2):\n",
    "    \n",
    "    \n",
    "    out_vals = {}\n",
    "    \n",
    "    h_vecs = []\n",
    "    a_vecs = []\n",
    "    dropout_vecs = []\n",
    "    a_reg_vecs = []\n",
    "    y = 0 # initialise output y    \n",
    "    x_vec_sum=0 # each vector is W[0].shape[1] x 1 ,the sum of embedding vectors is W[0].shape[1] x 1 as well\n",
    "    for word_index in x: # look up the corresponding vectors in embedding matrix for every word index\n",
    "        x_vec_sum += W[0][word_index] # W[0] represents embedding matrix  \n",
    "    h1 = x_vec_sum/len(x) # h1 equals to avreage embedding vectors,according to formula mentioned above\n",
    "    h1 = np.array(h1,dtype='float32')\n",
    "   \n",
    "    h_vecs += [h1]\n",
    "    a1 = relu(h1)\n",
    "    a1 = np.array(a1,dtype='float32')\n",
    "   \n",
    "    a_vecs += [a1]\n",
    "    dropout_vecs1 = dropout_mask(len(a1), dropout_rate)\n",
    "    dropout_vecs += [dropout_vecs1]\n",
    "    a1_regularized = a1 * dropout_vecs1 # use * rather than np.dot\n",
    "    a_reg_vecs += [a1_regularized]\n",
    "    \n",
    "    for i in range(1,len(W)):  # iterate every hidden layer\n",
    "        hi = np.dot(W[i].T,a_reg_vecs[i-1])\n",
    "        hi = np.array(hi,dtype='float32')\n",
    "        if i != (len(W)-1): # if the forwardpass haven't come to the final layer\n",
    "            h_vecs += [hi]\n",
    "            ai = relu(hi)\n",
    "            a_vecs += [ai]\n",
    "            dropout_vec_temp = dropout_mask(len(ai), dropout_rate)\n",
    "            dropout_vecs += [dropout_vec_temp]\n",
    "            ai_regularized = ai * dropout_vec_temp\n",
    "            a_reg_vecs += [ai_regularized]\n",
    "        else: # if it is the final layer, output the y using softmax() rather than relu()\n",
    "            y = softmax(hi)\n",
    "            y = np.array(y,dtype='float32')\n",
    "            \n",
    "    \n",
    "    out_vals['h'] = h_vecs\n",
    "    out_vals['a'] = a_vecs\n",
    "    out_vals['droput_vecs'] = dropout_vecs\n",
    "    out_vals['y'] = y\n",
    "    \n",
    "    return out_vals\n",
    "    "
   ]
  },
  {
   "cell_type": "code",
   "execution_count": 29,
   "metadata": {
    "scrolled": true
   },
   "outputs": [
    {
     "name": "stdout",
     "output_type": "stream",
     "text": [
      "Shape W0 (3, 4)\n",
      "Shape W1 (4, 5)\n",
      "Shape W2 (5, 2)\n",
      "\n",
      "{'h': [array([-0.06532356, -0.0525649 , -0.01648912,  0.03281889], dtype=float32), array([-0.00191901, -0.00136205,  0.00013134,  0.00263806,  0.00317445],\n",
      "      dtype=float32)], 'a': [array([0.        , 0.        , 0.        , 0.03281889], dtype=float32), array([0.        , 0.        , 0.00013134, 0.00263806, 0.00317445],\n",
      "      dtype=float32)], 'droput_vecs': [array([0., 1., 0., 1.]), array([0., 1., 1., 1., 0.])], 'y': array([0.49968764, 0.5003123 ], dtype=float32)}\n"
     ]
    }
   ],
   "source": [
    "W = network_weights(vocab_size=3,embedding_dim=4,hidden_dim=[5], num_classes=2)\n",
    "\n",
    "for i in range(len(W)):\n",
    "    print('Shape W'+str(i), W[i].shape)\n",
    "\n",
    "print()\n",
    "print(forward_pass([2,1], W, dropout_rate=0.5))"
   ]
  },
  {
   "cell_type": "markdown",
   "metadata": {},
   "source": [
    "The `backward_pass` function computes the gradients and update the weights for each matrix in the network from the output to the input. It takes as input \n",
    "\n",
    "- `x`: a list of vocabulary indices each corresponding to a word in the document (input)\n",
    "- `y`: the true label\n",
    "- `W`: a list of weight matrices connecting each part of the network, e.g. for a network with a hidden and an output layer: W[0] is the weight matrix that connects the input to the first hidden layer, W[1] is the weight matrix that connects the hidden layer to the output layer.\n",
    "- `out_vals`: a dictionary of output values from a forward pass.\n",
    "- `learning_rate`: the learning rate for updating the weights.\n",
    "- `freeze_emb`: boolean value indicating whether the embedding weights will be updated.\n",
    "\n",
    "and returns:\n",
    "\n",
    "- `W`: the updated weights of the network.\n",
    "\n",
    "Hint: the gradients on the output layer are similar to the multiclass logistic regression."
   ]
  },
  {
   "cell_type": "code",
   "execution_count": 47,
   "metadata": {
    "ExecuteTime": {
     "end_time": "2020-04-02T14:26:56.225630Z",
     "start_time": "2020-04-02T14:26:56.216508Z"
    }
   },
   "outputs": [],
   "source": [
    "def backward_pass(x, y, W, out_vals, lr=0.001, freeze_emb=False): # this function only used for two layers network\n",
    "    \n",
    "    i = y - 1 # in this case label y start from 1, in order to do indexing, y should minus 1\n",
    "    y_preds = out_vals['y'] # probability y_hat is corresponding to the index of true label y\n",
    "    y_preds[i] = y_preds[i] - 1 #  dL/dH2 = y^ - yi (yi = 1 or 0),the corresponding element should minus 1\n",
    "    h1 = out_vals['h'] #in this case h would only contains one vector h1, because it is only two layers\n",
    "\n",
    "    # the output layer\n",
    "    g = y_preds #  so now we have the vector dl/dh2\n",
    "    a = out_vals['a'][-1]\n",
    "    dW1 = g * a.reshape(len(a),1)\n",
    "    W[1] = W[1] - lr * dW1 # update the weights W[1] which is near the output layer\n",
    "    \n",
    "    \n",
    "    #the first layer，\n",
    "    #dL/dW_emb = dL/dH2 x dH2/dA1 * dA1/dH1 * dH1/dW_emb , according to chain rule\n",
    "    if freeze_emb==False:\n",
    "        dW0 = g.dot(W[1].T) * relu_derivative(h1[0]) * (1/len(x)) #dW0 is a vector\n",
    "        for index in x: # update embedding weights accroding to input index  \n",
    "            W[0][index] = W[0][index] - lr*dW0\n",
    "    \n",
    "    return W\n",
    "\n",
    "\n"
   ]
  },
  {
   "cell_type": "markdown",
   "metadata": {
    "ExecuteTime": {
     "end_time": "2020-02-15T14:08:59.937442Z",
     "start_time": "2020-02-15T14:08:59.932221Z"
    }
   },
   "source": [
    "Finally you need to modify SGD to support back-propagation by using the `forward_pass` and `backward_pass` functions.\n",
    "\n",
    "The `SGD` function takes as input:\n",
    "\n",
    "- `X_tr`: array of training data (vectors)\n",
    "- `Y_tr`: labels of `X_tr`\n",
    "- `W`: the weights of the network (dictionary)\n",
    "- `X_dev`: array of development (i.e. validation) data (vectors)\n",
    "- `Y_dev`: labels of `X_dev`\n",
    "- `lr`: learning rate\n",
    "- `dropout`: regularisation strength\n",
    "- `epochs`: number of full passes over the training data\n",
    "- `tolerance`: stop training if the difference between the current and previous validation loss is smaller than a threshold\n",
    "- `freeze_emb`: boolean value indicating whether the embedding weights will be updated (to be used by the backward pass function).\n",
    "- `print_progress`: flag for printing the training progress (train/validation loss)\n",
    "\n",
    "\n",
    "and returns:\n",
    "\n",
    "- `weights`: the weights learned\n",
    "- `training_loss_history`: an array with the average losses of the whole training set after each epoch\n",
    "- `validation_loss_history`: an array with the average losses of the whole development set after each epoch"
   ]
  },
  {
   "cell_type": "code",
   "execution_count": 31,
   "metadata": {},
   "outputs": [],
   "source": [
    "def SGD(X_tr, Y_tr, W, X_dev=[], Y_dev=[], lr=0.001, \n",
    "        dropout=0.2, epochs=5, tolerance=0.001, freeze_emb=False, print_progress=True):\n",
    "    \n",
    "    cur_loss_tr = 1.\n",
    "    cur_loss_dev = 1.\n",
    "    training_loss_history = []\n",
    "    validation_loss_history = []\n",
    "    \n",
    "\n",
    "    train_data = list(zip(X_tr,Y_tr))\n",
    "    \n",
    "    for e in range(epochs):\n",
    "        np.random.shuffle(train_data) #randomise training data\n",
    "        yp_train_list = [] # a 2D list of predicted y , each element is a vector after passing softmax \n",
    "        yp_dev_list = []\n",
    "        \n",
    "        for xi,yi in train_data:\n",
    "            train_output = forward_pass(xi, W, dropout)\n",
    "            W = backward_pass(xi, yi, W, train_output,lr,freeze_emb) # W is a global varible\n",
    "            \n",
    "            \n",
    "        for xi,yi in train_data:\n",
    "            train_output = forward_pass(xi, W, dropout)\n",
    "            yp_train_list += [train_output['y']] \n",
    "        \n",
    "        for xi in X_dev:\n",
    "            dev_output = forward_pass(xi, W, dropout)\n",
    "            yp_dev_list += [dev_output['y']] \n",
    "        \n",
    "        Y_tr_random = [train_data[i][1] for i in range(len(train_data))] #randomised true label for tr data\n",
    "        Y_tr_random = np.array(Y_tr_random)\n",
    "        yp_train_list = np.array(yp_train_list) \n",
    "        yp_dev_list = np.array(yp_dev_list) \n",
    "        \n",
    "        loss_tr = categorical_loss(Y_tr_random, yp_train_list)\n",
    "        loss_dev = categorical_loss(Y_dev, yp_dev_list)\n",
    "        training_loss_history += [loss_tr]\n",
    "        validation_loss_history += [loss_dev]\n",
    "        \n",
    "        if abs(cur_loss_dev - loss_dev) <tolerance:\n",
    "            break\n",
    "        if print_progress==True:\n",
    "            print(\"Epoch:\",e,\"| Training loss:\",cur_loss_tr,\"| Validation loss:\",cur_loss_dev)\n",
    "            cur_loss_tr = loss_tr\n",
    "            cur_loss_dev = loss_dev\n",
    "    \n",
    "    return W, training_loss_history, validation_loss_history"
   ]
  },
  {
   "cell_type": "markdown",
   "metadata": {
    "ExecuteTime": {
     "end_time": "2020-02-15T14:10:15.772383Z",
     "start_time": "2020-02-15T14:10:15.767855Z"
    }
   },
   "source": [
    "Now you are ready to train and evaluate you neural net. First, you need to define your network using the `network_weights` function followed by SGD with backprop:"
   ]
  },
  {
   "cell_type": "code",
   "execution_count": 32,
   "metadata": {
    "ExecuteTime": {
     "end_time": "2020-04-02T15:09:33.643515Z",
     "start_time": "2020-04-02T15:09:33.640943Z"
    }
   },
   "outputs": [
    {
     "name": "stdout",
     "output_type": "stream",
     "text": [
      "Shape W0 (8932, 300)\n",
      "Shape W1 (300, 3)\n"
     ]
    }
   ],
   "source": [
    "W = network_weights(vocab_size=len(id2word),embedding_dim=300,hidden_dim=[], num_classes=3)\n",
    "\n",
    "for i in range(len(W)):\n",
    "    print('Shape W'+str(i), W[i].shape)"
   ]
  },
  {
   "cell_type": "code",
   "execution_count": 33,
   "metadata": {
    "ExecuteTime": {
     "end_time": "2020-04-02T15:09:33.643515Z",
     "start_time": "2020-04-02T15:09:33.640943Z"
    }
   },
   "outputs": [
    {
     "name": "stdout",
     "output_type": "stream",
     "text": [
      "Epoch: 0 | Training loss: 1.0 | Validation loss: 1.0\n",
      "Epoch: 1 | Training loss: 1.083648540750146 | Validation loss: 1.0888576058546702\n",
      "Epoch: 2 | Training loss: 1.0642584223300218 | Validation loss: 1.0762688903013866\n",
      "Epoch: 3 | Training loss: 1.0446144733577967 | Validation loss: 1.0704683323701223\n",
      "Epoch: 4 | Training loss: 1.0242512222379445 | Validation loss: 1.062878748178482\n",
      "Epoch: 5 | Training loss: 1.0057844543705383 | Validation loss: 1.046689027150472\n",
      "Epoch: 6 | Training loss: 0.9844742592672507 | Validation loss: 1.042882864077886\n",
      "Epoch: 7 | Training loss: 0.9647397878393531 | Validation loss: 1.0272008415063223\n",
      "Epoch: 8 | Training loss: 0.9454896038770676 | Validation loss: 1.0146472692489623\n",
      "Epoch: 9 | Training loss: 0.9265543546527624 | Validation loss: 1.0034232461452484\n",
      "Epoch: 10 | Training loss: 0.9065539456283053 | Validation loss: 0.9881362215677897\n",
      "Epoch: 11 | Training loss: 0.8856983471910159 | Validation loss: 0.9788456118106842\n",
      "Epoch: 12 | Training loss: 0.8680866953978936 | Validation loss: 0.9663264954090118\n",
      "Epoch: 13 | Training loss: 0.8493476579027871 | Validation loss: 0.9598791062831878\n",
      "Epoch: 14 | Training loss: 0.8298345554247498 | Validation loss: 0.948669251203537\n",
      "Epoch: 15 | Training loss: 0.8110249885916709 | Validation loss: 0.9295575292905172\n",
      "Epoch: 16 | Training loss: 0.7932314101917048 | Validation loss: 0.9141900557279586\n",
      "Epoch: 17 | Training loss: 0.7753243504557759 | Validation loss: 0.9083000655968984\n",
      "Epoch: 18 | Training loss: 0.7585326449076335 | Validation loss: 0.8950486322244008\n",
      "Epoch: 19 | Training loss: 0.7417521543583522 | Validation loss: 0.8854310230414073\n",
      "Epoch: 20 | Training loss: 0.7241215203609318 | Validation loss: 0.8752058780193329\n",
      "Epoch: 21 | Training loss: 0.7089350396813825 | Validation loss: 0.8572026032209397\n",
      "Epoch: 22 | Training loss: 0.6934315007536983 | Validation loss: 0.848803573846817\n",
      "Epoch: 23 | Training loss: 0.6780105121992528 | Validation loss: 0.8403338404496511\n",
      "Epoch: 24 | Training loss: 0.6646641232368226 | Validation loss: 0.8213913255929947\n",
      "Epoch: 25 | Training loss: 0.6502455526031554 | Validation loss: 0.8185259992877643\n",
      "Epoch: 26 | Training loss: 0.6367154316355784 | Validation loss: 0.8012540704011917\n",
      "Epoch: 27 | Training loss: 0.6245894996371741 | Validation loss: 0.7863441550731659\n",
      "Epoch: 28 | Training loss: 0.6103005116308728 | Validation loss: 0.7791214702526729\n",
      "Epoch: 29 | Training loss: 0.5980884270020761 | Validation loss: 0.7752959022919337\n",
      "Epoch: 30 | Training loss: 0.585775064988217 | Validation loss: 0.7551130990187327\n",
      "Epoch: 31 | Training loss: 0.5736653086155032 | Validation loss: 0.7513792264461517\n",
      "Epoch: 32 | Training loss: 0.5616447399999015 | Validation loss: 0.7375143947203954\n",
      "Epoch: 33 | Training loss: 0.5508644689798045 | Validation loss: 0.7269196155667305\n",
      "Epoch: 34 | Training loss: 0.539257463606773 | Validation loss: 0.717248031993707\n",
      "Epoch: 35 | Training loss: 0.5314568905012371 | Validation loss: 0.7087907079855601\n",
      "Epoch: 36 | Training loss: 0.5202074376117283 | Validation loss: 0.7044272429744403\n",
      "Epoch: 37 | Training loss: 0.5102362386928871 | Validation loss: 0.6916620639463266\n",
      "Epoch: 38 | Training loss: 0.49979107865171196 | Validation loss: 0.6871511391798655\n",
      "Epoch: 39 | Training loss: 0.4904523257612406 | Validation loss: 0.6720315522452196\n",
      "Epoch: 40 | Training loss: 0.48345845376413005 | Validation loss: 0.6677986899514993\n",
      "Epoch: 41 | Training loss: 0.474815222780259 | Validation loss: 0.6581074634194374\n",
      "Epoch: 42 | Training loss: 0.46747308075039956 | Validation loss: 0.6574995532631874\n",
      "Epoch: 43 | Training loss: 0.4594286134565482 | Validation loss: 0.6482041323184967\n",
      "Epoch: 44 | Training loss: 0.4489836418083481 | Validation loss: 0.6339804790914059\n",
      "Epoch: 45 | Training loss: 0.4419403319006475 | Validation loss: 0.6319276382029057\n",
      "Epoch: 46 | Training loss: 0.43556484203397605 | Validation loss: 0.6165127312143643\n",
      "Epoch: 47 | Training loss: 0.4267556197250572 | Validation loss: 0.617348380535841\n",
      "Epoch: 48 | Training loss: 0.4204419378740325 | Validation loss: 0.6123680869241556\n",
      "Epoch: 49 | Training loss: 0.4157299045009616 | Validation loss: 0.6066032356023788\n",
      "Epoch: 50 | Training loss: 0.40573469278092184 | Validation loss: 0.6025536640733481\n",
      "Epoch: 51 | Training loss: 0.40082941222470253 | Validation loss: 0.5937911537537972\n",
      "Epoch: 52 | Training loss: 0.3930902272193149 | Validation loss: 0.591344712699453\n",
      "Epoch: 53 | Training loss: 0.38871122378623113 | Validation loss: 0.5865696377803882\n",
      "Epoch: 54 | Training loss: 0.3827702323095097 | Validation loss: 0.5816100918253263\n",
      "Epoch: 55 | Training loss: 0.3758980107029978 | Validation loss: 0.5715380706141392\n",
      "Epoch: 56 | Training loss: 0.37368718213411434 | Validation loss: 0.5691479200621447\n",
      "Epoch: 57 | Training loss: 0.36515904914733255 | Validation loss: 0.5612069941063722\n",
      "Epoch: 58 | Training loss: 0.3592827203440053 | Validation loss: 0.5680446368455887\n",
      "Epoch: 59 | Training loss: 0.3554439155284005 | Validation loss: 0.5421678685148557\n",
      "Epoch: 60 | Training loss: 0.3512911372450374 | Validation loss: 0.5455399554222822\n",
      "Epoch: 61 | Training loss: 0.345148814508672 | Validation loss: 0.5445189883808295\n",
      "Epoch: 62 | Training loss: 0.34124602485525735 | Validation loss: 0.5438891926159461\n",
      "Epoch: 63 | Training loss: 0.3367892312402061 | Validation loss: 0.5303035869821906\n",
      "Epoch: 64 | Training loss: 0.3329867292970691 | Validation loss: 0.5244553203011553\n",
      "Epoch: 65 | Training loss: 0.32673840276664123 | Validation loss: 0.514719059827427\n",
      "Epoch: 66 | Training loss: 0.32074573943881357 | Validation loss: 0.532265639975667\n",
      "Epoch: 67 | Training loss: 0.3185207171017343 | Validation loss: 0.5296326616654793\n",
      "Epoch: 68 | Training loss: 0.3125211553290137 | Validation loss: 0.5115733042607705\n",
      "Epoch: 69 | Training loss: 0.31127253060510457 | Validation loss: 0.5145761088654399\n",
      "Epoch: 70 | Training loss: 0.3046941290831698 | Validation loss: 0.501851190601786\n",
      "Epoch: 71 | Training loss: 0.3019389199730358 | Validation loss: 0.5026578628395995\n",
      "Epoch: 72 | Training loss: 0.2966291260183789 | Validation loss: 0.5043858020255964\n",
      "Epoch: 73 | Training loss: 0.29349187982899216 | Validation loss: 0.500357065051794\n",
      "Epoch: 74 | Training loss: 0.29129302677485003 | Validation loss: 0.4889841712266207\n",
      "Epoch: 75 | Training loss: 0.2869298341666581 | Validation loss: 0.4896386756002903\n",
      "Epoch: 76 | Training loss: 0.2819181558199974 | Validation loss: 0.4903209431717793\n",
      "Epoch: 77 | Training loss: 0.2797542291151573 | Validation loss: 0.4744357647312184\n",
      "Epoch: 78 | Training loss: 0.27821352878536953 | Validation loss: 0.47268368302534025\n",
      "Epoch: 79 | Training loss: 0.2728570042318703 | Validation loss: 0.48742004901791613\n",
      "Epoch: 80 | Training loss: 0.26969148160424083 | Validation loss: 0.4765715487611791\n",
      "Epoch: 81 | Training loss: 0.2662730509416239 | Validation loss: 0.4698698482910792\n",
      "Epoch: 82 | Training loss: 0.2639651802857649 | Validation loss: 0.46252525215347606\n",
      "Epoch: 83 | Training loss: 0.258538563354911 | Validation loss: 0.4645335408238073\n",
      "Epoch: 84 | Training loss: 0.2583015019518401 | Validation loss: 0.4632942846417427\n",
      "Epoch: 85 | Training loss: 0.2553279156967377 | Validation loss: 0.46014172459021213\n",
      "Epoch: 86 | Training loss: 0.25122887483715506 | Validation loss: 0.451740106344223\n",
      "Epoch: 87 | Training loss: 0.24846872638937686 | Validation loss: 0.45382053731630245\n",
      "Epoch: 88 | Training loss: 0.24622846618653663 | Validation loss: 0.45163492221385243\n",
      "Epoch: 89 | Training loss: 0.2423242203920381 | Validation loss: 0.45086705924322207\n",
      "Epoch: 90 | Training loss: 0.2407357838213405 | Validation loss: 0.4380331508970509\n"
     ]
    }
   ],
   "source": [
    "W, loss_tr, dev_loss = SGD(X_tr, Y_tr,\n",
    "                            W,\n",
    "                            X_dev=X_dev, \n",
    "                            Y_dev=Y_dev,\n",
    "                            lr=0.002, \n",
    "                            dropout=0.2,\n",
    "                            freeze_emb=False,\n",
    "                            tolerance=0.0001,\n",
    "                            epochs=300)"
   ]
  },
  {
   "cell_type": "markdown",
   "metadata": {},
   "source": [
    "Plot the learning process:"
   ]
  },
  {
   "cell_type": "code",
   "execution_count": 34,
   "metadata": {},
   "outputs": [
    {
     "data": {
      "text/plain": [
       "<matplotlib.legend.Legend at 0x1db4c793400>"
      ]
     },
     "execution_count": 34,
     "metadata": {},
     "output_type": "execute_result"
    },
    {
     "data": {
      "image/png": "[encoded data removed]",
      "text/plain": [
       "<Figure size 432x288 with 1 Axes>"
      ]
     },
     "metadata": {
      "needs_background": "light"
     },
     "output_type": "display_data"
    }
   ],
   "source": [
    "x=range(0,len(loss_tr))\n",
    "y1=loss_tr\n",
    "y2=dev_loss\n",
    "plt.xlabel('Epochs')\n",
    "plt.ylabel('Loss')\n",
    "plt.title('Training Monitoring')\n",
    "plt.plot(x, y1,'-',label=\"train loss\")\n",
    "plt.plot(x, y2,'-',label=\"valid loss\")\n",
    "plt.legend()"
   ]
  },
  {
   "cell_type": "markdown",
   "metadata": {},
   "source": [
    "Compute accuracy, precision, recall and F1-Score:"
   ]
  },
  {
   "cell_type": "code",
   "execution_count": 35,
   "metadata": {
    "ExecuteTime": {
     "end_time": "2020-04-02T15:10:11.037495Z",
     "start_time": "2020-04-02T15:10:11.034999Z"
    }
   },
   "outputs": [
    {
     "name": "stdout",
     "output_type": "stream",
     "text": [
      "Accuracy: 0.8488888888888889\n",
      "Precision: 0.8551595134336046\n",
      "Recall: 0.8488888888888889\n",
      "F1-Score: 0.8492939160421709\n"
     ]
    }
   ],
   "source": [
    "preds_te = [np.argmax(forward_pass(x, W, dropout_rate=0.0)['y'])+1 for x,y in zip(X_te,Y_te)]\n",
    "print('Accuracy:', accuracy_score(Y_te,preds_te))\n",
    "print('Precision:', precision_score(Y_te,preds_te,average='macro'))\n",
    "print('Recall:', recall_score(Y_te,preds_te,average='macro'))\n",
    "print('F1-Score:', f1_score(Y_te,preds_te,average='macro'))"
   ]
  },
  {
   "cell_type": "markdown",
   "metadata": {},
   "source": [
    "### Discuss how did you choose model hyperparameters ? "
   ]
  },
  {
   "cell_type": "markdown",
   "metadata": {},
   "source": [
    "### Parameters Tuning Records for The Model ###\n",
    "\n",
    "\n",
    "| Parameters | Precision  | Recall  | F1-Score  | Accuracy |  Comment |\n",
    "|:-:|:-:|:-:|:-:|:-:|:-:|\n",
    "|lr=0.01,dropout=0.2,emb_dim=300   |0.8591   |0.8522   |0.8531   |0.8522 | **a relatively good results**|\n",
    "|lr=0.01,dropout=0.5,emb_dim=300   | 0.3433 |0.3414   |0.3213   |0.3324 | didn't learn, increase lr|\n",
    "| lr=0.1,dropout=0.5,emb_dim=300   | 0.8541 |0.8533   |0.8534   |0.8533 | **a relatively good results**|\n",
    "|lr=0.01,dropout=0.2,emb_dim=50  | 0.3759  |  0.3744 | 0.3204  |0.3744| didn't learn, increase lr||\n",
    "|lr=0.1,dropout=0.2,emb_dim=50  | 0.8399  |  0.8356 | 0.8353  |0.8356|  Although result is relatively good, but loss began to increase at last few epochs, need to try increasing dropout|\n",
    "|lr=0.1,dropout=0.5,emb_dim=50  |  ||||training was stopped, loss diverged|\n",
    "|lr=0.1,dropout=0.2,emb_dim=500  |0.8533   | 0.8511  | 0.8511  |0.8511| **relatively good result, both train_loss and dev_loss decreased to a very value with few steps**|\n",
    "|lr=0.1,dropout=0.5,emb_dim=500  |0.8577   | 0.8533  | 0.8511  |0.8511|  **relatively good result, both train_loss and dev_loss decreased to a very value with few steps**|"
   ]
  },
  {
   "cell_type": "markdown",
   "metadata": {},
   "source": [
    "Firstly, to see if the loss trends are correctly decreasing, I didn't set tolerance. When I saw the validation loss and training loss kept decreasing, I can sure the SGD function are basicly correct. The next step is to choose model hyperparameters, I printed the validation loss and looked through the loss value, so that I can choose a proper value of tolerance to make sure the loss converge so effectively. The parameter tuning records table is shown above. Sometimes when learning rate is to small it doesn't learn very quickly, validation loss may be judged as converged, so when it doesn't learn, I would try to increase learning rate or use smaller tolerance. Basically, for the first model, it can achieve F1-score around 0.83--0.85. The bigger embedding size, the less epochs, but it would take very long time to compute a single epoch.  "
   ]
  },
  {
   "cell_type": "markdown",
   "metadata": {},
   "source": [
    "# Use Pre-trained Embeddings\n",
    "\n",
    "Now re-train the network using GloVe pre-trained embeddings. You need to modify the `backward_pass` function above to stop computing gradients and updating weights of the embedding matrix.\n",
    "\n",
    "Use the function below to obtain the embedding martix for your vocabulary."
   ]
  },
  {
   "cell_type": "code",
   "execution_count": 36,
   "metadata": {
    "ExecuteTime": {
     "end_time": "2020-04-02T14:27:32.020697Z",
     "start_time": "2020-04-02T14:27:32.015733Z"
    }
   },
   "outputs": [],
   "source": [
    "def get_glove_embeddings(f_zip, f_txt, word2id, emb_size=300):\n",
    "    \n",
    "    w_emb = np.zeros((len(word2id), emb_size))\n",
    "    \n",
    "    with zipfile.ZipFile(f_zip) as z:\n",
    "        with z.open(f_txt) as f:\n",
    "            for line in f:\n",
    "                line = line.decode('utf-8')\n",
    "                word = line.split()[0]\n",
    "                     \n",
    "                if word in vocab:\n",
    "                    emb = np.array(line.strip('\\n').split()[1:]).astype(np.float32)\n",
    "                    w_emb[word2id[word]] += emb\n",
    "    return w_emb"
   ]
  },
  {
   "cell_type": "code",
   "execution_count": 37,
   "metadata": {},
   "outputs": [
    {
     "data": {
      "text/plain": [
       "(8932, 300)"
      ]
     },
     "execution_count": 37,
     "metadata": {},
     "output_type": "execute_result"
    }
   ],
   "source": [
    "w_glove = get_glove_embeddings(\"glove.840B.300d.zip\",\"glove.840B.300d.txt\",word2id)\n",
    "\n",
    "w_glove.shape"
   ]
  },
  {
   "cell_type": "markdown",
   "metadata": {},
   "source": [
    "First, initialise the weights of your network using the `network_weights` function. Second, replace the weigths of the embedding matrix with `w_glove`. Finally, train the network by freezing the embedding weights: "
   ]
  },
  {
   "cell_type": "code",
   "execution_count": 48,
   "metadata": {},
   "outputs": [
    {
     "name": "stdout",
     "output_type": "stream",
     "text": [
      "Shape W0 (8932, 300)\n",
      "Shape W1 (300, 3)\n"
     ]
    }
   ],
   "source": [
    "W_glove = network_weights(vocab_size=len(word2id),embedding_dim=300,hidden_dim=[], num_classes=3)#initialise the weights\n",
    "\n",
    "for i in range(len(W_glove)):\n",
    "    print('Shape W'+str(i), W_glove[i].shape)\n",
    "\n",
    "W_glove[0] = w_glove # replace the weigths of the embedding matrix with w_glove"
   ]
  },
  {
   "cell_type": "code",
   "execution_count": 50,
   "metadata": {
    "ExecuteTime": {
     "end_time": "2020-04-02T14:30:11.121198Z",
     "start_time": "2020-04-02T14:29:24.946124Z"
    }
   },
   "outputs": [
    {
     "name": "stdout",
     "output_type": "stream",
     "text": [
      "Epoch: 0 | Training loss: 1.0 | Validation loss: 1.0\n",
      "Epoch: 1 | Training loss: 0.9136370339120428 | Validation loss: 0.906350563466549\n",
      "Epoch: 2 | Training loss: 0.8560330870809655 | Validation loss: 0.8568824462095896\n",
      "Epoch: 3 | Training loss: 0.8054317477873216 | Validation loss: 0.8503042661150296\n",
      "Epoch: 4 | Training loss: 0.759856741965438 | Validation loss: 0.7820344890157381\n",
      "Epoch: 5 | Training loss: 0.7237736781112228 | Validation loss: 0.7677977581818899\n",
      "Epoch: 6 | Training loss: 0.6991021084195623 | Validation loss: 0.7337598125636577\n",
      "Epoch: 7 | Training loss: 0.6770654456476526 | Validation loss: 0.6953079197307428\n",
      "Epoch: 8 | Training loss: 0.647945334391358 | Validation loss: 0.6593279253443082\n",
      "Epoch: 9 | Training loss: 0.6143279932090081 | Validation loss: 0.6643118913968404\n",
      "Epoch: 10 | Training loss: 0.6096981692151167 | Validation loss: 0.6293257150053978\n",
      "Epoch: 11 | Training loss: 0.5890490328357555 | Validation loss: 0.6583368104199568\n",
      "Epoch: 12 | Training loss: 0.5813919939496555 | Validation loss: 0.6178573520978292\n",
      "Epoch: 13 | Training loss: 0.5743712862678028 | Validation loss: 0.5964599508792162\n",
      "Epoch: 14 | Training loss: 0.5498703877814114 | Validation loss: 0.5757141739378373\n",
      "Epoch: 15 | Training loss: 0.5447533513442613 | Validation loss: 0.5967822500566642\n",
      "Epoch: 16 | Training loss: 0.5434551506272207 | Validation loss: 0.568485323258986\n",
      "Epoch: 17 | Training loss: 0.5221981858718209 | Validation loss: 0.5508582007388274\n",
      "Epoch: 18 | Training loss: 0.5221150669211057 | Validation loss: 0.5661832394450903\n",
      "Epoch: 19 | Training loss: 0.5203578431931479 | Validation loss: 0.5243460288147131\n",
      "Epoch: 20 | Training loss: 0.5082030924481418 | Validation loss: 0.5692009396975239\n",
      "Epoch: 21 | Training loss: 0.5155480321931343 | Validation loss: 0.5227212885643046\n",
      "Epoch: 22 | Training loss: 0.5003222109585962 | Validation loss: 0.5150238406658173\n",
      "Epoch: 23 | Training loss: 0.493950724688669 | Validation loss: 0.5171962768584489\n",
      "Epoch: 24 | Training loss: 0.5000595136194897 | Validation loss: 0.5050061728867392\n",
      "Epoch: 25 | Training loss: 0.4960635637495822 | Validation loss: 0.4756477637899419\n",
      "Epoch: 26 | Training loss: 0.4965720971822157 | Validation loss: 0.5194769988084833\n",
      "Epoch: 27 | Training loss: 0.487651781841317 | Validation loss: 0.5410987181340655\n",
      "Epoch: 28 | Training loss: 0.4835824313206831 | Validation loss: 0.5063689333138367\n",
      "Epoch: 29 | Training loss: 0.47583955496326474 | Validation loss: 0.45896475882579885\n",
      "Epoch: 30 | Training loss: 0.4687729954020081 | Validation loss: 0.48481883520881336\n",
      "Epoch: 31 | Training loss: 0.47831836147767415 | Validation loss: 0.4745459225277106\n",
      "Epoch: 32 | Training loss: 0.4806333314558045 | Validation loss: 0.44712893772870305\n",
      "Epoch: 33 | Training loss: 0.4534148421230687 | Validation loss: 0.4668026242715617\n",
      "Epoch: 34 | Training loss: 0.4510433634412281 | Validation loss: 0.491865271780019\n",
      "Epoch: 35 | Training loss: 0.45847450792052163 | Validation loss: 0.5153895422288527\n",
      "Epoch: 36 | Training loss: 0.46500710262795714 | Validation loss: 0.47260852992534635\n",
      "Epoch: 37 | Training loss: 0.45184111976161756 | Validation loss: 0.4382781430892646\n",
      "Epoch: 38 | Training loss: 0.4471367042259468 | Validation loss: 0.4565529870055616\n",
      "Epoch: 39 | Training loss: 0.45225187347282675 | Validation loss: 0.44725530673439307\n",
      "Epoch: 40 | Training loss: 0.4481110795060037 | Validation loss: 0.4666171924304217\n",
      "Epoch: 41 | Training loss: 0.44023397773836526 | Validation loss: 0.432455408644552\n",
      "Epoch: 42 | Training loss: 0.45089695368306515 | Validation loss: 0.42641285471928614\n",
      "Epoch: 43 | Training loss: 0.4308569405883221 | Validation loss: 0.47102757196562983\n",
      "Epoch: 44 | Training loss: 0.435840696042942 | Validation loss: 0.45070467789657415\n",
      "Epoch: 45 | Training loss: 0.444427076274175 | Validation loss: 0.4303118441874782\n",
      "Epoch: 46 | Training loss: 0.44862051720211943 | Validation loss: 0.4471811775987347\n"
     ]
    }
   ],
   "source": [
    "W_glove, loss_tr_glove, dev_loss_glove = SGD(X_tr, Y_tr,\n",
    "                            W_glove,\n",
    "                            X_dev=X_dev, \n",
    "                            Y_dev=Y_dev,\n",
    "                            lr=0.001, \n",
    "                            dropout=0.1,\n",
    "                            freeze_emb=True, # stop updating W[0]\n",
    "                            tolerance=0.001,\n",
    "                            epochs=500)"
   ]
  },
  {
   "cell_type": "code",
   "execution_count": 51,
   "metadata": {},
   "outputs": [
    {
     "data": {
      "text/plain": [
       "<matplotlib.legend.Legend at 0x1db4ddba748>"
      ]
     },
     "execution_count": 51,
     "metadata": {},
     "output_type": "execute_result"
    },
    {
     "data": {
      "image/png": "[encoded data removed]",
      "text/plain": [
       "<Figure size 432x288 with 1 Axes>"
      ]
     },
     "metadata": {
      "needs_background": "light"
     },
     "output_type": "display_data"
    }
   ],
   "source": [
    "x=range(0,len(loss_tr_glove))\n",
    "y1=loss_tr_glove\n",
    "y2=dev_loss_glove\n",
    "plt.xlabel('Epochs')\n",
    "plt.ylabel('Loss')\n",
    "plt.title('Training Monitoring')\n",
    "plt.plot(x, y1,'-',label=\"train loss\")\n",
    "plt.plot(x, y2,'-',label=\"valid loss\")\n",
    "plt.legend()"
   ]
  },
  {
   "cell_type": "code",
   "execution_count": 52,
   "metadata": {
    "ExecuteTime": {
     "end_time": "2020-04-02T15:12:00.815184Z",
     "start_time": "2020-04-02T15:12:00.812563Z"
    }
   },
   "outputs": [
    {
     "name": "stdout",
     "output_type": "stream",
     "text": [
      "Accuracy: 0.8655555555555555\n",
      "Precision: 0.8676440621565756\n",
      "Recall: 0.8655555555555555\n",
      "F1-Score: 0.8660015472520705\n"
     ]
    }
   ],
   "source": [
    "preds_te = [np.argmax(forward_pass(x, W_glove, dropout_rate=0.0)['y'])+1 for x,y in zip(X_te,Y_te)]\n",
    "print('Accuracy:', accuracy_score(Y_te,preds_te))\n",
    "print('Precision:', precision_score(Y_te,preds_te,average='macro'))\n",
    "print('Recall:', recall_score(Y_te,preds_te,average='macro'))\n",
    "print('F1-Score:', f1_score(Y_te,preds_te,average='macro'))"
   ]
  },
  {
   "cell_type": "markdown",
   "metadata": {},
   "source": [
    "### Discuss how did you choose model hyperparameters ? "
   ]
  },
  {
   "cell_type": "markdown",
   "metadata": {},
   "source": [
    "### Parameters Tuning Records for The Model \n",
    "\n",
    "| Parameters | Precision  | Recall  | F1-Score  | Accuracy |  Comment |\n",
    "|:-:|:-:|:-:|:-:|:-:|:-:|\n",
    " | lr=0.001,dropout=0.2,emb_dim=300   |   |   |   | |stopped training, In this case I try to make tolerance 0.001, but loss kept vibrating|\n",
    " | lr=0.0001,dropout=0.2,emb_dim=300   | 0.8742 |0.8733   |0.8736   |0.8733 | **a relatively good results**|\n",
    " | lr=0.0001,dropout=0.5,emb_dim=300   | 0.8801 |0.8800   |0.8794   |0.88 | **Results were good, but loss kept vibrating**|\n",
    " | lr=0.001,dropout=0.5,emb_dim=300   |  |   |   | |stopped training, loss diverge|\n"
   ]
  },
  {
   "cell_type": "markdown",
   "metadata": {},
   "source": [
    "In this case, I used the Glove with the embedding_size=300. At first, I tried learning_rate=0.001,dropout=0.2, default tolerance is 0.001, but loss values kept vabrating, so I used a smaller learning rate, 0.0001, and the loss started to decrease normally. "
   ]
  },
  {
   "cell_type": "markdown",
   "metadata": {},
   "source": [
    "# Extend to support deeper architectures (Bonus)\n",
    "\n",
    "Extend the network to support back-propagation for more hidden layers. You need to modify the `backward_pass` function above to compute gradients and update the weights between intermediate hidden layers. Finally, train and evaluate a network with a deeper architecture. "
   ]
  },
  {
   "cell_type": "code",
   "execution_count": 42,
   "metadata": {
    "ExecuteTime": {
     "end_time": "2020-04-02T14:58:51.764619Z",
     "start_time": "2020-04-02T14:58:47.483690Z"
    }
   },
   "outputs": [],
   "source": [
    "def backward_pass(x, y, W, out_vals, lr=0.001, freeze_emb=False): # this backward function used for bonus\n",
    "    \n",
    "    i = y - 1 # in this case label y start from 1, in order to do indexing, y should minus 1\n",
    "    l = len(W) - 1 # the max index for W\n",
    "    y_preds = out_vals['y'] # probability y_hat is corresponding to the index of true label y\n",
    "    y_preds[i] = y_preds[i] - 1 #  dL/dHl = y^ - yi (yi = 1 or 0),the corresponding element should minus 1\n",
    "    h = out_vals['h'] \n",
    "    \n",
    "    # update the output layer weight\n",
    "    g = y_preds #  so now we have the vector dl/dHl\n",
    "    a = out_vals['a']\n",
    "    dWl =  g * a[-1].reshape(len(a[-1]),1) # the last layer before output layer\n",
    "    W[l] = W[l] - lr * dWl # update the weights W[1] which is near the output layer\n",
    "    dA = W[l].dot(g)#this is dL/dA[l-1]\n",
    "    \n",
    "    # update the hidden layers' weights\n",
    "    for i in range(l-1,0,-1): # from W[l-1] to W[1], because W[0] is pre-trained embedding matrix and don't need to be updated\n",
    "        dH = relu_derivative(h[i]) * dA # layer l - 1\n",
    "        dWi =  dH * a[i-1].reshape(len(a[i-1]),1) # compute gradients, dWi should have same dimension with W[i]\n",
    "        W[i] = W[i] - lr * dWi\n",
    "        dA = W[i].dot(dH)\n",
    "   \n",
    "    \n",
    "    return W\n"
   ]
  },
  {
   "cell_type": "code",
   "execution_count": 43,
   "metadata": {},
   "outputs": [
    {
     "name": "stdout",
     "output_type": "stream",
     "text": [
      "Shape W0 (8932, 300)\n",
      "Shape W1 (300, 18)\n",
      "Shape W2 (18, 6)\n",
      "Shape W3 (6, 3)\n"
     ]
    }
   ],
   "source": [
    "W_extend = network_weights(vocab_size=len(word2id),embedding_dim=300,hidden_dim=[18,6], num_classes=3)#initialise the weights with 2 hidden layers\n",
    "\n",
    "for i in range(len(W_extend)):\n",
    "    print('Shape W'+str(i), W_extend[i].shape)\n",
    "\n",
    "W_extend[0] = w_glove # replace the weigths of the embedding matrix with w_glove"
   ]
  },
  {
   "cell_type": "code",
   "execution_count": 44,
   "metadata": {},
   "outputs": [
    {
     "name": "stdout",
     "output_type": "stream",
     "text": [
      "Epoch: 0 | Training loss: 1.0 | Validation loss: 1.0\n",
      "Epoch: 1 | Training loss: 1.0913581935564678 | Validation loss: 1.0937944134076436\n",
      "Epoch: 2 | Training loss: 1.0778123780091604 | Validation loss: 1.0839935421943665\n",
      "Epoch: 3 | Training loss: 1.0511916650086641 | Validation loss: 1.0620849593480428\n",
      "Epoch: 4 | Training loss: 0.998961207618316 | Validation loss: 1.010606731971105\n",
      "Epoch: 5 | Training loss: 0.9198904952158531 | Validation loss: 0.9378365512688954\n",
      "Epoch: 6 | Training loss: 0.8264042943902313 | Validation loss: 0.8198444966475169\n",
      "Epoch: 7 | Training loss: 0.7445641990533719 | Validation loss: 0.7659697573383649\n",
      "Epoch: 8 | Training loss: 0.6811176009150222 | Validation loss: 0.6939159691830477\n",
      "Epoch: 9 | Training loss: 0.6267736328051736 | Validation loss: 0.5935088524222374\n",
      "Epoch: 10 | Training loss: 0.5781008933034415 | Validation loss: 0.5965038308997949\n",
      "Epoch: 11 | Training loss: 0.5241973004955799 | Validation loss: 0.49324225418269635\n",
      "Epoch: 12 | Training loss: 0.5081594154161091 | Validation loss: 0.4772186750297745\n"
     ]
    }
   ],
   "source": [
    "W_extend, loss_tr_extend, dev_loss_extend = SGD(X_tr, Y_tr,\n",
    "                            W_extend,\n",
    "                            X_dev=X_dev, \n",
    "                            Y_dev=Y_dev,\n",
    "                            lr=0.001, \n",
    "                            dropout=0.1,\n",
    "                            freeze_emb=True, # stop updating W[0]\n",
    "                            tolerance=0.0005,\n",
    "                            epochs=500)"
   ]
  },
  {
   "cell_type": "code",
   "execution_count": 45,
   "metadata": {},
   "outputs": [
    {
     "data": {
      "text/plain": [
       "<matplotlib.legend.Legend at 0x1db4dcf9fd0>"
      ]
     },
     "execution_count": 45,
     "metadata": {},
     "output_type": "execute_result"
    },
    {
     "data": {
      "image/png": "[encoded data removed]",
      "text/plain": [
       "<Figure size 432x288 with 1 Axes>"
      ]
     },
     "metadata": {
      "needs_background": "light"
     },
     "output_type": "display_data"
    }
   ],
   "source": [
    "x=range(0,len(loss_tr_extend))\n",
    "y1=loss_tr_extend\n",
    "y2=dev_loss_extend\n",
    "plt.xlabel('Epochs')\n",
    "plt.ylabel('Loss')\n",
    "plt.title('Training Monitoring')\n",
    "plt.plot(x, y1,'-',label=\"train loss\")\n",
    "plt.plot(x, y2,'-',label=\"valid loss\")\n",
    "plt.legend()"
   ]
  },
  {
   "cell_type": "code",
   "execution_count": 46,
   "metadata": {
    "ExecuteTime": {
     "end_time": "2020-04-02T15:11:51.994986Z",
     "start_time": "2020-04-02T15:11:51.992563Z"
    }
   },
   "outputs": [
    {
     "name": "stdout",
     "output_type": "stream",
     "text": [
      "Accuracy: 0.8833333333333333\n",
      "Precision: 0.8829641419531535\n",
      "Recall: 0.8833333333333334\n",
      "F1-Score: 0.8830386824903247\n"
     ]
    }
   ],
   "source": [
    "preds_te = [np.argmax(forward_pass(x, W_extend, dropout_rate=0.0)['y'])+1 for x,y in zip(X_te,Y_te)]\n",
    "print('Accuracy:', accuracy_score(Y_te,preds_te))\n",
    "print('Precision:', precision_score(Y_te,preds_te,average='macro'))\n",
    "print('Recall:', recall_score(Y_te,preds_te,average='macro'))\n",
    "print('F1-Score:', f1_score(Y_te,preds_te,average='macro'))"
   ]
  },
  {
   "cell_type": "markdown",
   "metadata": {},
   "source": [
    "## Full Results\n",
    "\n",
    "Add your final results here:\n",
    "\n",
    "| Model | Precision  | Recall  | F1-Score  | Accuracy\n",
    "|:-:|:-:|:-:|:-:|:-:|\n",
    "| Average Embedding  | 0.855  | 0.849  | 0.849  | 0.849  |\n",
    "| Average Embedding (Pre-trained)  | 0.868  |0.866   |  0.866 |0.866   |\n",
    "| Average Embedding (Pre-trained) + 2 hidden layers (BONUS)   | 0.883  | 0.883  | 0.883  | 0.883  |\n"
   ]
  },
  {
   "cell_type": "markdown",
   "metadata": {},
   "source": [
    "In conclusion, test results are:\n",
    "Average embedding, the F1-Score around 0.84 - 0.85; \n",
    "Average embedding(Pre-trained), the F1-Score around 0.86 - 0.88; \n",
    "Average embedding(Pre-trained), the F1-Score around 0.87 - 0.89; \n"
   ]
  }
 ],
 "metadata": {
  "kernelspec": {
   "display_name": "Python 3",
   "language": "python",
   "name": "python3"
  },
  "language_info": {
   "codemirror_mode": {
    "name": "ipython",
    "version": 3
   },
   "file_extension": ".py",
   "mimetype": "text/x-python",
   "name": "python",
   "nbconvert_exporter": "python",
   "pygments_lexer": "ipython3",
   "version": "3.7.3"
  }
 },
 "nbformat": 4,
 "nbformat_minor": 2
}
